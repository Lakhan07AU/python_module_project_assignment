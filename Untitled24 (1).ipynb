{
 "cells": [
  {
   "cell_type": "code",
   "execution_count": 9,
   "id": "098098ce-784a-4338-a46a-87936e09b669",
   "metadata": {},
   "outputs": [
    {
     "name": "stdout",
     "output_type": "stream",
     "text": [
      "Welcome to the Library Management System\n",
      "\n",
      "Menu:\n",
      "1. Add Book\n",
      "2. Borrow Book\n",
      "3. Return Book\n",
      "4. View Books\n",
      "5. Exit\n"
     ]
    },
    {
     "name": "stdin",
     "output_type": "stream",
     "text": [
      "Enter your choice:  1\n",
      "Enter book title:  python\n",
      "Enter book author:  lakhan\n",
      "Enter number of copies:  100\n"
     ]
    },
    {
     "name": "stdout",
     "output_type": "stream",
     "text": [
      "Updated 'python' by lakhan. Total copies: 200.\n",
      "\n",
      "Menu:\n",
      "1. Add Book\n",
      "2. Borrow Book\n",
      "3. Return Book\n",
      "4. View Books\n",
      "5. Exit\n"
     ]
    },
    {
     "name": "stdin",
     "output_type": "stream",
     "text": [
      "Enter your choice:  1\n",
      "Enter book title:  os\n",
      "Enter book author:  kavi\n",
      "Enter number of copies:  1\n"
     ]
    },
    {
     "name": "stdout",
     "output_type": "stream",
     "text": [
      "Added 'os' by kavi with 1 copies.\n",
      "\n",
      "Menu:\n",
      "1. Add Book\n",
      "2. Borrow Book\n",
      "3. Return Book\n",
      "4. View Books\n",
      "5. Exit\n"
     ]
    },
    {
     "name": "stdin",
     "output_type": "stream",
     "text": [
      "Enter your choice:  1\n",
      "Enter book title:  math\n",
      "Enter book author:  malavika\n",
      "Enter number of copies:  1\n"
     ]
    },
    {
     "name": "stdout",
     "output_type": "stream",
     "text": [
      "Added 'math' by malavika with 1 copies.\n",
      "\n",
      "Menu:\n",
      "1. Add Book\n",
      "2. Borrow Book\n",
      "3. Return Book\n",
      "4. View Books\n",
      "5. Exit\n"
     ]
    },
    {
     "name": "stdin",
     "output_type": "stream",
     "text": [
      "Enter your choice:  4\n"
     ]
    },
    {
     "name": "stdout",
     "output_type": "stream",
     "text": [
      "Available Books:\n",
      "python by lakhan - 200 copies\n",
      "os by kavi - 1 copies\n",
      "math by malavika - 1 copies\n",
      "\n",
      "Menu:\n",
      "1. Add Book\n",
      "2. Borrow Book\n",
      "3. Return Book\n",
      "4. View Books\n",
      "5. Exit\n"
     ]
    },
    {
     "name": "stdin",
     "output_type": "stream",
     "text": [
      "Enter your choice:  2\n",
      "Enter your name:  math\n",
      "Enter book title to borrow:  math\n"
     ]
    },
    {
     "name": "stdout",
     "output_type": "stream",
     "text": [
      "'math' has been borrowed by math.\n",
      "\n",
      "Menu:\n",
      "1. Add Book\n",
      "2. Borrow Book\n",
      "3. Return Book\n",
      "4. View Books\n",
      "5. Exit\n"
     ]
    },
    {
     "name": "stdin",
     "output_type": "stream",
     "text": [
      "Enter your choice:  4\n"
     ]
    },
    {
     "name": "stdout",
     "output_type": "stream",
     "text": [
      "Available Books:\n",
      "python by lakhan - 200 copies\n",
      "os by kavi - 1 copies\n",
      "math by malavika - 0 copies\n",
      "\n",
      "Menu:\n",
      "1. Add Book\n",
      "2. Borrow Book\n",
      "3. Return Book\n",
      "4. View Books\n",
      "5. Exit\n"
     ]
    },
    {
     "name": "stdin",
     "output_type": "stream",
     "text": [
      "Enter your choice:  5\n"
     ]
    },
    {
     "name": "stdout",
     "output_type": "stream",
     "text": [
      "Exiting the system. Goodbye!\n"
     ]
    }
   ],
   "source": [
    "from library import Library\n",
    "\n",
    "def main():\n",
    "    lib = Library()\n",
    "\n",
    "    print(\"Welcome to the Library Management System\")\n",
    "    while True:\n",
    "        print(\"\\nMenu:\")\n",
    "        print(\"1. Add Book\")\n",
    "        print(\"2. Borrow Book\")\n",
    "        print(\"3. Return Book\")\n",
    "        print(\"4. View Books\")\n",
    "        print(\"5. Exit\")\n",
    "\n",
    "        choice = input(\"Enter your choice: \")\n",
    "\n",
    "        if choice == \"1\":\n",
    "            title = input(\"Enter book title: \")\n",
    "            author = input(\"Enter book author: \")\n",
    "            copies = int(input(\"Enter number of copies: \"))\n",
    "            result = lib.add_book(title, author, copies)\n",
    "            print(result)\n",
    "        elif choice == \"2\":\n",
    "            member = input(\"Enter your name: \")\n",
    "            title = input(\"Enter book title to borrow: \")\n",
    "            result = lib.borrow_book(member, title)\n",
    "            print(result)\n",
    "        elif choice == \"3\":\n",
    "            member = input(\"Enter your name: \")\n",
    "            title = input(\"Enter book title to return: \")\n",
    "            result = lib.return_book(member, title)\n",
    "            print(result)\n",
    "        elif choice == \"4\":\n",
    "            print(\"Available Books:\")\n",
    "            print(lib.view_books())\n",
    "        elif choice == \"5\":\n",
    "            print(\"Exiting the system. Goodbye!\")\n",
    "            break\n",
    "        else:\n",
    "            print(\"Invalid choice. Please try again.\")\n",
    "\n",
    "if __name__ == \"__main__\":\n",
    "    main()"
   ]
  },
  {
   "cell_type": "code",
   "execution_count": null,
   "id": "a2cc5b92-0ed0-457a-9355-d7f951ded0fd",
   "metadata": {},
   "outputs": [],
   "source": []
  }
 ],
 "metadata": {
  "kernelspec": {
   "display_name": "Python 3 (ipykernel)",
   "language": "python",
   "name": "python3"
  },
  "language_info": {
   "codemirror_mode": {
    "name": "ipython",
    "version": 3
   },
   "file_extension": ".py",
   "mimetype": "text/x-python",
   "name": "python",
   "nbconvert_exporter": "python",
   "pygments_lexer": "ipython3",
   "version": "3.12.4"
  }
 },
 "nbformat": 4,
 "nbformat_minor": 5
}
